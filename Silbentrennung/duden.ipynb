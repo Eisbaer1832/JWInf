{
 "cells": [
  {
   "cell_type": "code",
   "id": "initial_id",
   "metadata": {
    "collapsed": true,
    "ExecuteTime": {
     "end_time": "2025-10-24T09:17:47.680343Z",
     "start_time": "2025-10-24T09:17:47.674691Z"
    }
   },
   "source": [
    "import duden as d\n",
    "\n"
   ],
   "outputs": [],
   "execution_count": 18
  },
  {
   "metadata": {
    "ExecuteTime": {
     "end_time": "2025-10-24T09:11:35.938512Z",
     "start_time": "2025-10-24T09:11:35.722536Z"
    }
   },
   "cell_type": "code",
   "source": "w = d.get('aua')",
   "id": "e38b1bd53ed0c3a2",
   "outputs": [],
   "execution_count": 14
  },
  {
   "metadata": {
    "ExecuteTime": {
     "end_time": "2025-10-24T09:11:35.968849Z",
     "start_time": "2025-10-24T09:11:35.960632Z"
    }
   },
   "cell_type": "code",
   "source": [
    "print(w.name)\n",
    "print(w.word_separation)"
   ],
   "id": "c303e146f589d148",
   "outputs": [
    {
     "name": "stdout",
     "output_type": "stream",
     "text": [
      "aua\n",
      "['aua']\n"
     ]
    }
   ],
   "execution_count": 15
  },
  {
   "metadata": {
    "ExecuteTime": {
     "end_time": "2025-10-24T09:22:20.045803Z",
     "start_time": "2025-10-24T09:22:19.941603Z"
    }
   },
   "cell_type": "code",
   "source": [
    "compound = 'Donaudampfschifffahrtskapitänsmützenabzeichen'\n",
    "input_file = '/dicts/german.dic'\n",
    "ahocs = comp_split.read_dictionary_from_file(input_file)\n",
    "\n",
    "dissection = comp_split.dissect(compound, ahocs, make_singular=True)\n",
    "print('SPLIT WORDS (plain):', dissection)\n",
    "print('SPLIT WORDS (post-merge):', comp_split.merge_fractions(dissection))"
   ],
   "id": "a311cc1f0bac37b9",
   "outputs": [
    {
     "name": "stdout",
     "output_type": "stream",
     "text": [
      "Loading data file - /dicts/german.dic\n"
     ]
    },
    {
     "ename": "FileNotFoundError",
     "evalue": "[Errno 2] No such file or directory: '/dicts/german.dic'",
     "output_type": "error",
     "traceback": [
      "\u001B[31m---------------------------------------------------------------------------\u001B[39m",
      "\u001B[31mFileNotFoundError\u001B[39m                         Traceback (most recent call last)",
      "\u001B[36mCell\u001B[39m\u001B[36m \u001B[39m\u001B[32mIn[23]\u001B[39m\u001B[32m, line 3\u001B[39m\n\u001B[32m      1\u001B[39m compound = \u001B[33m'\u001B[39m\u001B[33mDonaudampfschifffahrtskapitänsmützenabzeichen\u001B[39m\u001B[33m'\u001B[39m\n\u001B[32m      2\u001B[39m input_file = \u001B[33m'\u001B[39m\u001B[33m/dicts/german.dic\u001B[39m\u001B[33m'\u001B[39m\n\u001B[32m----> \u001B[39m\u001B[32m3\u001B[39m ahocs = \u001B[43mcomp_split\u001B[49m\u001B[43m.\u001B[49m\u001B[43mread_dictionary_from_file\u001B[49m\u001B[43m(\u001B[49m\u001B[43minput_file\u001B[49m\u001B[43m)\u001B[49m\n\u001B[32m      5\u001B[39m dissection = comp_split.dissect(compound, ahocs, make_singular=\u001B[38;5;28;01mTrue\u001B[39;00m)\n\u001B[32m      6\u001B[39m \u001B[38;5;28mprint\u001B[39m(\u001B[33m'\u001B[39m\u001B[33mSPLIT WORDS (plain):\u001B[39m\u001B[33m'\u001B[39m, dissection)\n",
      "\u001B[36mFile \u001B[39m\u001B[32m~/.local/lib/python3.13/site-packages/german_compound_splitter/comp_split.py:41\u001B[39m, in \u001B[36mread_dictionary_from_file\u001B[39m\u001B[34m(input_file)\u001B[39m\n\u001B[32m     38\u001B[39m A = ahocorasick.Automaton()\n\u001B[32m     40\u001B[39m \u001B[38;5;28mprint\u001B[39m(\u001B[33m'\u001B[39m\u001B[33mLoading data file -\u001B[39m\u001B[33m'\u001B[39m, input_file)\n\u001B[32m---> \u001B[39m\u001B[32m41\u001B[39m \u001B[38;5;28;01mwith\u001B[39;00m \u001B[38;5;28;43mopen\u001B[39;49m\u001B[43m(\u001B[49m\u001B[43minput_file\u001B[49m\u001B[43m,\u001B[49m\u001B[43m \u001B[49m\u001B[33;43m'\u001B[39;49m\u001B[33;43mr\u001B[39;49m\u001B[33;43m'\u001B[39;49m\u001B[43m,\u001B[49m\u001B[43m \u001B[49m\u001B[43mencoding\u001B[49m\u001B[43m=\u001B[49m\u001B[33;43m'\u001B[39;49m\u001B[33;43mutf8\u001B[39;49m\u001B[33;43m'\u001B[39;49m\u001B[43m)\u001B[49m \u001B[38;5;28;01mas\u001B[39;00m f:\n\u001B[32m     42\u001B[39m     input_list = f.read().splitlines()\n\u001B[32m     44\u001B[39m \u001B[38;5;66;03m# load one item per line\u001B[39;00m\n",
      "\u001B[31mFileNotFoundError\u001B[39m: [Errno 2] No such file or directory: '/dicts/german.dic'"
     ]
    }
   ],
   "execution_count": 23
  }
 ],
 "metadata": {
  "kernelspec": {
   "display_name": "Python 3",
   "language": "python",
   "name": "python3"
  },
  "language_info": {
   "codemirror_mode": {
    "name": "ipython",
    "version": 2
   },
   "file_extension": ".py",
   "mimetype": "text/x-python",
   "name": "python",
   "nbconvert_exporter": "python",
   "pygments_lexer": "ipython2",
   "version": "2.7.6"
  }
 },
 "nbformat": 4,
 "nbformat_minor": 5
}
